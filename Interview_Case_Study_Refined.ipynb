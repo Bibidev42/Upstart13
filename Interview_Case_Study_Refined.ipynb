{
 "cells": [
  {
   "cell_type": "markdown",
   "metadata": {
    "application/vnd.databricks.v1+cell": {
     "cellMetadata": {
      "byteLimit": 2048000,
      "rowLimit": 10000
     },
     "inputWidgets": {},
     "nuid": "31c8348f-92df-4f41-8051-d6d8fa7aca6d",
     "showTitle": false,
     "tableResultSettingsMap": {},
     "title": ""
    }
   },
   "source": [
    "### Data Extract\n",
    "- Manual operation through Catalog > Create Table"
   ]
  },
  {
   "cell_type": "markdown",
   "metadata": {
    "application/vnd.databricks.v1+cell": {
     "cellMetadata": {
      "byteLimit": 2048000,
      "rowLimit": 10000
     },
     "inputWidgets": {},
     "nuid": "d98f5e44-e441-4127-9471-bbc134dc4593",
     "showTitle": false,
     "tableResultSettingsMap": {},
     "title": ""
    }
   },
   "source": [
    "### Bronze Layer"
   ]
  },
  {
   "cell_type": "code",
   "execution_count": 0,
   "metadata": {
    "application/vnd.databricks.v1+cell": {
     "cellMetadata": {
      "byteLimit": 2048000,
      "implicitDf": true,
      "rowLimit": 10000
     },
     "inputWidgets": {},
     "nuid": "ba01c938-33f8-4b83-b8d7-3274295efca2",
     "showTitle": true,
     "tableResultSettingsMap": {},
     "title": "Views Created Using FileStore Location"
    }
   },
   "outputs": [
    {
     "output_type": "display_data",
     "data": {
      "text/html": [
       "<style scoped>\n",
       "  .table-result-container {\n",
       "    max-height: 300px;\n",
       "    overflow: auto;\n",
       "  }\n",
       "  table, th, td {\n",
       "    border: 1px solid black;\n",
       "    border-collapse: collapse;\n",
       "  }\n",
       "  th, td {\n",
       "    padding: 5px;\n",
       "  }\n",
       "  th {\n",
       "    text-align: left;\n",
       "  }\n",
       "</style><div class='table-result-container'><table class='table-result'><thead style='background-color: white'><tr></tr></thead><tbody></tbody></table></div>"
      ]
     },
     "metadata": {
      "application/vnd.databricks.v1+output": {
       "addedWidgets": {},
       "aggData": [],
       "aggError": "",
       "aggOverflow": false,
       "aggSchema": [],
       "aggSeriesLimitReached": false,
       "aggType": "",
       "arguments": {},
       "columnCustomDisplayInfos": {},
       "data": [],
       "datasetInfos": [],
       "dbfsResultPath": null,
       "isJsonSchema": true,
       "metadata": {},
       "overflow": false,
       "plotOptions": {
        "customPlotOptions": {},
        "displayType": "table",
        "pivotAggregation": null,
        "pivotColumns": null,
        "xColumns": null,
        "yColumns": null
       },
       "removedWidgets": [],
       "schema": [],
       "type": "table"
      }
     },
     "output_type": "display_data"
    }
   ],
   "source": [
    "%sql\n",
    "CREATE DATABASE IF NOT EXISTS case_study;\n",
    "USE case_study;\n",
    "\n",
    "\n",
    "CREATE OR REPLACE TEMPORARY VIEW raw_products\n",
    "USING CSV\n",
    "OPTIONS (\n",
    "  path '/FileStore/tables/products__1_.csv',\n",
    "  header 'true',\n",
    "  inferSchema 'true'\n",
    ");\n",
    "\n",
    "CREATE OR REPLACE TEMPORARY VIEW raw_sales_order_detail\n",
    "USING CSV\n",
    "OPTIONS (\n",
    "  path '/FileStore/tables/sales_order_detail__1_.csv',\n",
    "  header 'true',\n",
    "  inferSchema 'true'\n",
    ");\n",
    "\n",
    "CREATE OR REPLACE TEMPORARY VIEW raw_sales_order_header\n",
    "USING CSV\n",
    "OPTIONS (\n",
    "  path '/FileStore/tables/sales_order_header__1_.csv',\n",
    "  header 'true',\n",
    "  inferSchema 'true'\n",
    ");"
   ]
  },
  {
   "cell_type": "code",
   "execution_count": 0,
   "metadata": {
    "application/vnd.databricks.v1+cell": {
     "cellMetadata": {
      "byteLimit": 2048000,
      "implicitDf": true,
      "rowLimit": 10000
     },
     "inputWidgets": {},
     "nuid": "4d63d195-c12b-452c-aa04-9a7846e215fe",
     "showTitle": true,
     "tableResultSettingsMap": {},
     "title": "Verify Views and Check Row Counts"
    }
   },
   "outputs": [
    {
     "output_type": "display_data",
     "data": {
      "text/html": [
       "<style scoped>\n",
       "  .table-result-container {\n",
       "    max-height: 300px;\n",
       "    overflow: auto;\n",
       "  }\n",
       "  table, th, td {\n",
       "    border: 1px solid black;\n",
       "    border-collapse: collapse;\n",
       "  }\n",
       "  th, td {\n",
       "    padding: 5px;\n",
       "  }\n",
       "  th {\n",
       "    text-align: left;\n",
       "  }\n",
       "</style><div class='table-result-container'><table class='table-result'><thead style='background-color: white'><tr><th>table_name</th><th>row_count</th></tr></thead><tbody><tr><td>raw_products</td><td>303</td></tr><tr><td>raw_sales_order_detail</td><td>121317</td></tr><tr><td>raw_sales_order_header</td><td>31465</td></tr></tbody></table></div>"
      ]
     },
     "metadata": {
      "application/vnd.databricks.v1+output": {
       "addedWidgets": {},
       "aggData": [],
       "aggError": "",
       "aggOverflow": false,
       "aggSchema": [],
       "aggSeriesLimitReached": false,
       "aggType": "",
       "arguments": {},
       "columnCustomDisplayInfos": {},
       "data": [
        [
         "raw_products",
         303
        ],
        [
         "raw_sales_order_detail",
         121317
        ],
        [
         "raw_sales_order_header",
         31465
        ]
       ],
       "datasetInfos": [],
       "dbfsResultPath": null,
       "isJsonSchema": true,
       "metadata": {},
       "overflow": false,
       "plotOptions": {
        "customPlotOptions": {},
        "displayType": "table",
        "pivotAggregation": null,
        "pivotColumns": null,
        "xColumns": null,
        "yColumns": null
       },
       "removedWidgets": [],
       "schema": [
        {
         "metadata": "{}",
         "name": "table_name",
         "type": "\"string\""
        },
        {
         "metadata": "{}",
         "name": "row_count",
         "type": "\"long\""
        }
       ],
       "type": "table"
      }
     },
     "output_type": "display_data"
    }
   ],
   "source": [
    "%sql\n",
    "\n",
    "SELECT 'raw_products' as table_name, COUNT(*) as row_count FROM raw_products\n",
    "UNION ALL\n",
    "SELECT 'raw_sales_order_detail', COUNT(*) FROM raw_sales_order_detail\n",
    "UNION ALL\n",
    "SELECT 'raw_sales_order_header', COUNT(*) FROM raw_sales_order_header;"
   ]
  },
  {
   "cell_type": "markdown",
   "metadata": {
    "application/vnd.databricks.v1+cell": {
     "cellMetadata": {
      "byteLimit": 2048000,
      "rowLimit": 10000
     },
     "inputWidgets": {},
     "nuid": "c3d5bd8f-68d4-4b0b-bc3d-b19080eeaa21",
     "showTitle": false,
     "tableResultSettingsMap": {},
     "title": ""
    }
   },
   "source": [
    "### Check DataTypes"
   ]
  },
  {
   "cell_type": "code",
   "execution_count": 0,
   "metadata": {
    "application/vnd.databricks.v1+cell": {
     "cellMetadata": {
      "byteLimit": 2048000,
      "implicitDf": true,
      "rowLimit": 10000
     },
     "inputWidgets": {},
     "nuid": "f87b210d-c80f-4fcb-a2b9-f3bb56221191",
     "showTitle": true,
     "tableResultSettingsMap": {},
     "title": "raw_products"
    }
   },
   "outputs": [
    {
     "output_type": "display_data",
     "data": {
      "text/html": [
       "<style scoped>\n",
       "  .table-result-container {\n",
       "    max-height: 300px;\n",
       "    overflow: auto;\n",
       "  }\n",
       "  table, th, td {\n",
       "    border: 1px solid black;\n",
       "    border-collapse: collapse;\n",
       "  }\n",
       "  th, td {\n",
       "    padding: 5px;\n",
       "  }\n",
       "  th {\n",
       "    text-align: left;\n",
       "  }\n",
       "</style><div class='table-result-container'><table class='table-result'><thead style='background-color: white'><tr><th>col_name</th><th>data_type</th><th>comment</th></tr></thead><tbody><tr><td>ProductID</td><td>int</td><td>null</td></tr><tr><td>ProductDesc</td><td>string</td><td>null</td></tr><tr><td>ProductNumber</td><td>string</td><td>null</td></tr><tr><td>MakeFlag</td><td>boolean</td><td>null</td></tr><tr><td>Color</td><td>string</td><td>null</td></tr><tr><td>SafetyStockLevel</td><td>int</td><td>null</td></tr><tr><td>ReorderPoint</td><td>int</td><td>null</td></tr><tr><td>StandardCost</td><td>double</td><td>null</td></tr><tr><td>ListPrice</td><td>double</td><td>null</td></tr><tr><td>Size</td><td>string</td><td>null</td></tr><tr><td>SizeUnitMeasureCode</td><td>string</td><td>null</td></tr><tr><td>Weight</td><td>double</td><td>null</td></tr><tr><td>WeightUnitMeasureCode</td><td>string</td><td>null</td></tr><tr><td>ProductCategoryName</td><td>string</td><td>null</td></tr><tr><td>ProductSubCategoryName</td><td>string</td><td>null</td></tr></tbody></table></div>"
      ]
     },
     "metadata": {
      "application/vnd.databricks.v1+output": {
       "addedWidgets": {},
       "aggData": [],
       "aggError": "",
       "aggOverflow": false,
       "aggSchema": [],
       "aggSeriesLimitReached": false,
       "aggType": "",
       "arguments": {},
       "columnCustomDisplayInfos": {},
       "data": [
        [
         "ProductID",
         "int",
         null
        ],
        [
         "ProductDesc",
         "string",
         null
        ],
        [
         "ProductNumber",
         "string",
         null
        ],
        [
         "MakeFlag",
         "boolean",
         null
        ],
        [
         "Color",
         "string",
         null
        ],
        [
         "SafetyStockLevel",
         "int",
         null
        ],
        [
         "ReorderPoint",
         "int",
         null
        ],
        [
         "StandardCost",
         "double",
         null
        ],
        [
         "ListPrice",
         "double",
         null
        ],
        [
         "Size",
         "string",
         null
        ],
        [
         "SizeUnitMeasureCode",
         "string",
         null
        ],
        [
         "Weight",
         "double",
         null
        ],
        [
         "WeightUnitMeasureCode",
         "string",
         null
        ],
        [
         "ProductCategoryName",
         "string",
         null
        ],
        [
         "ProductSubCategoryName",
         "string",
         null
        ]
       ],
       "datasetInfos": [],
       "dbfsResultPath": null,
       "isJsonSchema": true,
       "metadata": {},
       "overflow": false,
       "plotOptions": {
        "customPlotOptions": {},
        "displayType": "table",
        "pivotAggregation": null,
        "pivotColumns": null,
        "xColumns": null,
        "yColumns": null
       },
       "removedWidgets": [],
       "schema": [
        {
         "metadata": "{\"comment\":\"name of the column\"}",
         "name": "col_name",
         "type": "\"string\""
        },
        {
         "metadata": "{\"comment\":\"data type of the column\"}",
         "name": "data_type",
         "type": "\"string\""
        },
        {
         "metadata": "{\"comment\":\"comment of the column\"}",
         "name": "comment",
         "type": "\"string\""
        }
       ],
       "type": "table"
      }
     },
     "output_type": "display_data"
    }
   ],
   "source": [
    "%sql\n",
    "DESCRIBE raw_products;"
   ]
  },
  {
   "cell_type": "code",
   "execution_count": 0,
   "metadata": {
    "application/vnd.databricks.v1+cell": {
     "cellMetadata": {
      "byteLimit": 2048000,
      "implicitDf": true,
      "rowLimit": 10000
     },
     "inputWidgets": {},
     "nuid": "a5df740f-2ea1-4ad8-9715-eaf62d4d886a",
     "showTitle": true,
     "tableResultSettingsMap": {},
     "title": "raw_sales_order_detail"
    }
   },
   "outputs": [
    {
     "output_type": "display_data",
     "data": {
      "text/html": [
       "<style scoped>\n",
       "  .table-result-container {\n",
       "    max-height: 300px;\n",
       "    overflow: auto;\n",
       "  }\n",
       "  table, th, td {\n",
       "    border: 1px solid black;\n",
       "    border-collapse: collapse;\n",
       "  }\n",
       "  th, td {\n",
       "    padding: 5px;\n",
       "  }\n",
       "  th {\n",
       "    text-align: left;\n",
       "  }\n",
       "</style><div class='table-result-container'><table class='table-result'><thead style='background-color: white'><tr><th>col_name</th><th>data_type</th><th>comment</th></tr></thead><tbody><tr><td>SalesOrderID</td><td>int</td><td>null</td></tr><tr><td>SalesOrderDetailID</td><td>int</td><td>null</td></tr><tr><td>OrderQty</td><td>int</td><td>null</td></tr><tr><td>ProductID</td><td>int</td><td>null</td></tr><tr><td>UnitPrice</td><td>double</td><td>null</td></tr><tr><td>UnitPriceDiscount</td><td>double</td><td>null</td></tr></tbody></table></div>"
      ]
     },
     "metadata": {
      "application/vnd.databricks.v1+output": {
       "addedWidgets": {},
       "aggData": [],
       "aggError": "",
       "aggOverflow": false,
       "aggSchema": [],
       "aggSeriesLimitReached": false,
       "aggType": "",
       "arguments": {},
       "columnCustomDisplayInfos": {},
       "data": [
        [
         "SalesOrderID",
         "int",
         null
        ],
        [
         "SalesOrderDetailID",
         "int",
         null
        ],
        [
         "OrderQty",
         "int",
         null
        ],
        [
         "ProductID",
         "int",
         null
        ],
        [
         "UnitPrice",
         "double",
         null
        ],
        [
         "UnitPriceDiscount",
         "double",
         null
        ]
       ],
       "datasetInfos": [],
       "dbfsResultPath": null,
       "isJsonSchema": true,
       "metadata": {},
       "overflow": false,
       "plotOptions": {
        "customPlotOptions": {},
        "displayType": "table",
        "pivotAggregation": null,
        "pivotColumns": null,
        "xColumns": null,
        "yColumns": null
       },
       "removedWidgets": [],
       "schema": [
        {
         "metadata": "{\"comment\":\"name of the column\"}",
         "name": "col_name",
         "type": "\"string\""
        },
        {
         "metadata": "{\"comment\":\"data type of the column\"}",
         "name": "data_type",
         "type": "\"string\""
        },
        {
         "metadata": "{\"comment\":\"comment of the column\"}",
         "name": "comment",
         "type": "\"string\""
        }
       ],
       "type": "table"
      }
     },
     "output_type": "display_data"
    }
   ],
   "source": [
    "%sql\n",
    "DESCRIBE raw_sales_order_detail;"
   ]
  },
  {
   "cell_type": "code",
   "execution_count": 0,
   "metadata": {
    "application/vnd.databricks.v1+cell": {
     "cellMetadata": {
      "byteLimit": 2048000,
      "implicitDf": true,
      "rowLimit": 10000
     },
     "inputWidgets": {},
     "nuid": "53e52037-a55e-4940-96de-1aed1790121b",
     "showTitle": true,
     "tableResultSettingsMap": {},
     "title": "raw_sales_order_header"
    }
   },
   "outputs": [
    {
     "output_type": "display_data",
     "data": {
      "text/html": [
       "<style scoped>\n",
       "  .table-result-container {\n",
       "    max-height: 300px;\n",
       "    overflow: auto;\n",
       "  }\n",
       "  table, th, td {\n",
       "    border: 1px solid black;\n",
       "    border-collapse: collapse;\n",
       "  }\n",
       "  th, td {\n",
       "    padding: 5px;\n",
       "  }\n",
       "  th {\n",
       "    text-align: left;\n",
       "  }\n",
       "</style><div class='table-result-container'><table class='table-result'><thead style='background-color: white'><tr><th>col_name</th><th>data_type</th><th>comment</th></tr></thead><tbody><tr><td>SalesOrderID</td><td>int</td><td>null</td></tr><tr><td>OrderDate</td><td>timestamp</td><td>null</td></tr><tr><td>ShipDate</td><td>date</td><td>null</td></tr><tr><td>OnlineOrderFlag</td><td>boolean</td><td>null</td></tr><tr><td>AccountNumber</td><td>string</td><td>null</td></tr><tr><td>CustomerID</td><td>int</td><td>null</td></tr><tr><td>SalesPersonID</td><td>int</td><td>null</td></tr><tr><td>Freight</td><td>double</td><td>null</td></tr></tbody></table></div>"
      ]
     },
     "metadata": {
      "application/vnd.databricks.v1+output": {
       "addedWidgets": {},
       "aggData": [],
       "aggError": "",
       "aggOverflow": false,
       "aggSchema": [],
       "aggSeriesLimitReached": false,
       "aggType": "",
       "arguments": {},
       "columnCustomDisplayInfos": {},
       "data": [
        [
         "SalesOrderID",
         "int",
         null
        ],
        [
         "OrderDate",
         "timestamp",
         null
        ],
        [
         "ShipDate",
         "date",
         null
        ],
        [
         "OnlineOrderFlag",
         "boolean",
         null
        ],
        [
         "AccountNumber",
         "string",
         null
        ],
        [
         "CustomerID",
         "int",
         null
        ],
        [
         "SalesPersonID",
         "int",
         null
        ],
        [
         "Freight",
         "double",
         null
        ]
       ],
       "datasetInfos": [],
       "dbfsResultPath": null,
       "isJsonSchema": true,
       "metadata": {},
       "overflow": false,
       "plotOptions": {
        "customPlotOptions": {},
        "displayType": "table",
        "pivotAggregation": null,
        "pivotColumns": null,
        "xColumns": null,
        "yColumns": null
       },
       "removedWidgets": [],
       "schema": [
        {
         "metadata": "{\"comment\":\"name of the column\"}",
         "name": "col_name",
         "type": "\"string\""
        },
        {
         "metadata": "{\"comment\":\"data type of the column\"}",
         "name": "data_type",
         "type": "\"string\""
        },
        {
         "metadata": "{\"comment\":\"comment of the column\"}",
         "name": "comment",
         "type": "\"string\""
        }
       ],
       "type": "table"
      }
     },
     "output_type": "display_data"
    }
   ],
   "source": [
    "%sql\n",
    "DESCRIBE raw_sales_order_header;"
   ]
  },
  {
   "cell_type": "markdown",
   "metadata": {
    "application/vnd.databricks.v1+cell": {
     "cellMetadata": {
      "byteLimit": 2048000,
      "rowLimit": 10000
     },
     "inputWidgets": {},
     "nuid": "fb526323-d484-43e2-83db-7d1d471f1b1a",
     "showTitle": false,
     "tableResultSettingsMap": {},
     "title": ""
    }
   },
   "source": [
    "### Create Store Tables With Proper DataTypes\n",
    "- Data Quality Check"
   ]
  },
  {
   "cell_type": "markdown",
   "metadata": {
    "application/vnd.databricks.v1+cell": {
     "cellMetadata": {
      "byteLimit": 2048000,
      "rowLimit": 10000
     },
     "inputWidgets": {},
     "nuid": "39bc20a6-701e-43a3-8293-17195f62b652",
     "showTitle": false,
     "tableResultSettingsMap": {},
     "title": ""
    }
   },
   "source": [
    "### Silver Layer"
   ]
  },
  {
   "cell_type": "code",
   "execution_count": 0,
   "metadata": {
    "application/vnd.databricks.v1+cell": {
     "cellMetadata": {
      "byteLimit": 2048000,
      "implicitDf": true,
      "rowLimit": 10000
     },
     "inputWidgets": {},
     "nuid": "8154526e-583d-499f-8aa0-e4d4ff05f9ed",
     "showTitle": true,
     "tableResultSettingsMap": {},
     "title": "Create store_products"
    }
   },
   "outputs": [
    {
     "output_type": "stream",
     "name": "stdout",
     "output_type": "stream",
     "text": [
      "Product count: 303\n"
     ]
    }
   ],
   "source": [
    "from pyspark.sql.functions import col\n",
    "from pyspark.sql.types import IntegerType, StringType, BooleanType, DecimalType\n",
    "\n",
    "# Read raw_products\n",
    "df_raw = spark.table(\"raw_products\")\n",
    "\n",
    "# Apply all type conversions\n",
    "df_typed = df_raw.select(\n",
    "    col(\"ProductID\").cast(IntegerType()).alias(\"ProductID\"),\n",
    "    col(\"ProductDesc\").cast(StringType()).alias(\"ProductDesc\"),\n",
    "    col(\"ProductNumber\").cast(StringType()).alias(\"ProductNumber\"),\n",
    "    col(\"MakeFlag\").cast(BooleanType()).alias(\"MakeFlag\"),\n",
    "    col(\"Color\").cast(StringType()).alias(\"Color\"),\n",
    "    col(\"SafetyStockLevel\").cast(IntegerType()).alias(\"SafetyStockLevel\"),\n",
    "    col(\"ReorderPoint\").cast(IntegerType()).alias(\"ReorderPoint\"),\n",
    "    col(\"StandardCost\").cast(DecimalType(10, 2)).alias(\"StandardCost\"),\n",
    "    col(\"ListPrice\").cast(DecimalType(10, 2)).alias(\"ListPrice\"),\n",
    "    col(\"Size\").cast(StringType()).alias(\"Size\"),\n",
    "    col(\"SizeUnitMeasureCode\").cast(StringType()).alias(\"SizeUnitMeasureCode\"),\n",
    "    col(\"Weight\").cast(DecimalType(10, 2)).alias(\"Weight\"),\n",
    "    col(\"WeightUnitMeasureCode\").cast(StringType()).alias(\"WeightUnitMeasureCode\"),\n",
    "    col(\"ProductCategoryName\").cast(StringType()).alias(\"ProductCategoryName\"),\n",
    "    col(\"ProductSubCategoryName\").cast(StringType()).alias(\"ProductSubCategoryName\")\n",
    ")\n",
    "# Write as table (overwrite if exists)\n",
    "df_typed.write.mode(\"overwrite\").saveAsTable(\"store_products\")\n",
    "# Count verification\n",
    "product_count = spark.table(\"store_products\").count()\n",
    "print(f\"Product count: {product_count}\")"
   ]
  },
  {
   "cell_type": "code",
   "execution_count": 0,
   "metadata": {
    "application/vnd.databricks.v1+cell": {
     "cellMetadata": {
      "byteLimit": 2048000,
      "implicitDf": true,
      "rowLimit": 10000
     },
     "inputWidgets": {},
     "nuid": "83aaf61a-71f6-40e8-a01b-34f7c05e641a",
     "showTitle": true,
     "tableResultSettingsMap": {},
     "title": "Create store_sales_order_detail table"
    }
   },
   "outputs": [
    {
     "output_type": "display_data",
     "data": {
      "text/html": [
       "<style scoped>\n",
       "  .table-result-container {\n",
       "    max-height: 300px;\n",
       "    overflow: auto;\n",
       "  }\n",
       "  table, th, td {\n",
       "    border: 1px solid black;\n",
       "    border-collapse: collapse;\n",
       "  }\n",
       "  th, td {\n",
       "    padding: 5px;\n",
       "  }\n",
       "  th {\n",
       "    text-align: left;\n",
       "  }\n",
       "</style><div class='table-result-container'><table class='table-result'><thead style='background-color: white'><tr><th>detail_count</th></tr></thead><tbody><tr><td>121317</td></tr></tbody></table></div>"
      ]
     },
     "metadata": {
      "application/vnd.databricks.v1+output": {
       "addedWidgets": {},
       "aggData": [],
       "aggError": "",
       "aggOverflow": false,
       "aggSchema": [],
       "aggSeriesLimitReached": false,
       "aggType": "",
       "arguments": {},
       "columnCustomDisplayInfos": {},
       "data": [
        [
         121317
        ]
       ],
       "datasetInfos": [],
       "dbfsResultPath": null,
       "isJsonSchema": true,
       "metadata": {},
       "overflow": false,
       "plotOptions": {
        "customPlotOptions": {},
        "displayType": "table",
        "pivotAggregation": null,
        "pivotColumns": null,
        "xColumns": null,
        "yColumns": null
       },
       "removedWidgets": [],
       "schema": [
        {
         "metadata": "{}",
         "name": "detail_count",
         "type": "\"long\""
        }
       ],
       "type": "table"
      }
     },
     "output_type": "display_data"
    }
   ],
   "source": [
    "%sql\n",
    "CREATE OR REPLACE TABLE store_sales_order_detail AS\n",
    "SELECT \n",
    "    CAST(SalesOrderID AS INT) AS SalesOrderID,           -- Foreign Key to header\n",
    "    CAST(SalesOrderDetailID AS INT) AS SalesOrderDetailID, -- Primary Key\n",
    "    CAST(OrderQty AS INT) AS OrderQty,\n",
    "    CAST(ProductID AS INT) AS ProductID,                 -- Foreign Key to products\n",
    "    CAST(UnitPrice AS DECIMAL(10,2)) AS UnitPrice,       -- Money type\n",
    "    CAST(UnitPriceDiscount AS DECIMAL(10,2)) AS UnitPriceDiscount  -- Money type\n",
    "FROM raw_sales_order_detail;\n",
    "\n",
    "-- Count verification\n",
    "SELECT COUNT(*) as detail_count FROM store_sales_order_detail;"
   ]
  },
  {
   "cell_type": "code",
   "execution_count": 0,
   "metadata": {
    "application/vnd.databricks.v1+cell": {
     "cellMetadata": {
      "byteLimit": 2048000,
      "implicitDf": true,
      "rowLimit": 10000
     },
     "inputWidgets": {},
     "nuid": "f7007e8a-2bcc-44e4-8b3a-e79f13e5885e",
     "showTitle": true,
     "tableResultSettingsMap": {},
     "title": "Create store_sales_order_header table"
    }
   },
   "outputs": [
    {
     "output_type": "display_data",
     "data": {
      "text/html": [
       "<style scoped>\n",
       "  .table-result-container {\n",
       "    max-height: 300px;\n",
       "    overflow: auto;\n",
       "  }\n",
       "  table, th, td {\n",
       "    border: 1px solid black;\n",
       "    border-collapse: collapse;\n",
       "  }\n",
       "  th, td {\n",
       "    padding: 5px;\n",
       "  }\n",
       "  th {\n",
       "    text-align: left;\n",
       "  }\n",
       "</style><div class='table-result-container'><table class='table-result'><thead style='background-color: white'><tr><th>header_count</th></tr></thead><tbody><tr><td>31465</td></tr></tbody></table></div>"
      ]
     },
     "metadata": {
      "application/vnd.databricks.v1+output": {
       "addedWidgets": {},
       "aggData": [],
       "aggError": "",
       "aggOverflow": false,
       "aggSchema": [],
       "aggSeriesLimitReached": false,
       "aggType": "",
       "arguments": {},
       "columnCustomDisplayInfos": {},
       "data": [
        [
         31465
        ]
       ],
       "datasetInfos": [],
       "dbfsResultPath": null,
       "isJsonSchema": true,
       "metadata": {},
       "overflow": false,
       "plotOptions": {
        "customPlotOptions": {},
        "displayType": "table",
        "pivotAggregation": null,
        "pivotColumns": null,
        "xColumns": null,
        "yColumns": null
       },
       "removedWidgets": [],
       "schema": [
        {
         "metadata": "{}",
         "name": "header_count",
         "type": "\"long\""
        }
       ],
       "type": "table"
      }
     },
     "output_type": "display_data"
    }
   ],
   "source": [
    "%sql\n",
    "CREATE OR REPLACE TABLE store_sales_order_header AS\n",
    "SELECT \n",
    "    CAST(SalesOrderID AS INT) AS SalesOrderID,           -- Primary Key\n",
    "    CAST(OrderDate AS DATE) AS OrderDate,                -- Ensure DATE type\n",
    "    CAST(ShipDate AS DATE) AS ShipDate,                  -- Ensure DATE type\n",
    "    CAST(OnlineOrderFlag AS BOOLEAN) AS OnlineOrderFlag,\n",
    "    CAST(AccountNumber AS STRING) AS AccountNumber,\n",
    "    CAST(CustomerID AS INT) AS CustomerID,               -- Foreign Key (to customer table)\n",
    "    CAST(SalesPersonID AS INT) AS SalesPersonID,\n",
    "    CAST(Freight AS DECIMAL(10,2)) AS Freight            -- Money type\n",
    "FROM raw_sales_order_header;\n",
    "\n",
    "-- Count verification\n",
    "SELECT COUNT(*) as header_count FROM store_sales_order_header;"
   ]
  },
  {
   "cell_type": "markdown",
   "metadata": {
    "application/vnd.databricks.v1+cell": {
     "cellMetadata": {
      "byteLimit": 2048000,
      "rowLimit": 10000
     },
     "inputWidgets": {},
     "nuid": "60cbe62a-0308-42a4-a91a-8a6c6e33f636",
     "showTitle": false,
     "tableResultSettingsMap": {},
     "title": ""
    }
   },
   "source": [
    "### Gold Layer"
   ]
  },
  {
   "cell_type": "code",
   "execution_count": 0,
   "metadata": {
    "application/vnd.databricks.v1+cell": {
     "cellMetadata": {
      "byteLimit": 2048000,
      "implicitDf": true,
      "rowLimit": 10000
     },
     "inputWidgets": {},
     "nuid": "e3232b9e-d69a-4ff8-930b-c7dd8931e986",
     "showTitle": true,
     "tableResultSettingsMap": {},
     "title": "publish_orders with all transformations"
    }
   },
   "outputs": [
    {
     "output_type": "display_data",
     "data": {
      "text/html": [
       "<style scoped>\n",
       "  .table-result-container {\n",
       "    max-height: 300px;\n",
       "    overflow: auto;\n",
       "  }\n",
       "  table, th, td {\n",
       "    border: 1px solid black;\n",
       "    border-collapse: collapse;\n",
       "  }\n",
       "  th, td {\n",
       "    padding: 5px;\n",
       "  }\n",
       "  th {\n",
       "    text-align: left;\n",
       "  }\n",
       "</style><div class='table-result-container'><table class='table-result'><thead style='background-color: white'><tr><th>total_orders</th></tr></thead><tbody><tr><td>121317</td></tr></tbody></table></div>"
      ]
     },
     "metadata": {
      "application/vnd.databricks.v1+output": {
       "addedWidgets": {},
       "aggData": [],
       "aggError": "",
       "aggOverflow": false,
       "aggSchema": [],
       "aggSeriesLimitReached": false,
       "aggType": "",
       "arguments": {},
       "columnCustomDisplayInfos": {},
       "data": [
        [
         121317
        ]
       ],
       "datasetInfos": [],
       "dbfsResultPath": null,
       "isJsonSchema": true,
       "metadata": {},
       "overflow": false,
       "plotOptions": {
        "customPlotOptions": {},
        "displayType": "table",
        "pivotAggregation": null,
        "pivotColumns": null,
        "xColumns": null,
        "yColumns": null
       },
       "removedWidgets": [],
       "schema": [
        {
         "metadata": "{}",
         "name": "total_orders",
         "type": "\"long\""
        }
       ],
       "type": "table"
      }
     },
     "output_type": "display_data"
    }
   ],
   "source": [
    "%sql\n",
    "\n",
    "CREATE OR REPLACE TABLE publish_orders AS\n",
    "SELECT \n",
    "    -- All fields from SalesOrderDetail\n",
    "    d.SalesOrderID,\n",
    "    d.SalesOrderDetailID,\n",
    "    d.OrderQty,\n",
    "    d.ProductID,\n",
    "    d.UnitPrice,\n",
    "    d.UnitPriceDiscount,\n",
    "    \n",
    "    -- All fields from SalesOrderHeader (except SalesOrderID which is already included)\n",
    "    h.OrderDate,\n",
    "    h.ShipDate,\n",
    "    h.OnlineOrderFlag,\n",
    "    h.AccountNumber,\n",
    "    h.CustomerID,\n",
    "    h.SalesPersonID,\n",
    "    h.Freight AS TotalOrderFreight,  -- Renamed as required\n",
    "    \n",
    "    -- Calculated fields\n",
    "    calculate_business_days(h.OrderDate, h.ShipDate) AS LeadTimeInBusinessDays,\n",
    "    d.OrderQty * (d.UnitPrice - d.UnitPriceDiscount) AS TotalLineExtendedPrice\n",
    "    \n",
    "FROM store_sales_order_detail d\n",
    "INNER JOIN store_sales_order_header h \n",
    "    ON d.SalesOrderID = h.SalesOrderID;\n",
    "\n",
    "-- Verify the table was created\n",
    "SELECT COUNT(*) as total_orders FROM publish_orders;"
   ]
  },
  {
   "cell_type": "code",
   "execution_count": 0,
   "metadata": {
    "application/vnd.databricks.v1+cell": {
     "cellMetadata": {
      "byteLimit": 2048000,
      "implicitDf": true,
      "rowLimit": 10000
     },
     "inputWidgets": {},
     "nuid": "74b9dfec-bb37-496f-a25d-5653bba12c51",
     "showTitle": true,
     "tableResultSettingsMap": {},
     "title": "publish_product with all required transformations"
    }
   },
   "outputs": [
    {
     "output_type": "display_data",
     "data": {
      "text/html": [
       "<style scoped>\n",
       "  .table-result-container {\n",
       "    max-height: 300px;\n",
       "    overflow: auto;\n",
       "  }\n",
       "  table, th, td {\n",
       "    border: 1px solid black;\n",
       "    border-collapse: collapse;\n",
       "  }\n",
       "  th, td {\n",
       "    padding: 5px;\n",
       "  }\n",
       "  th {\n",
       "    text-align: left;\n",
       "  }\n",
       "</style><div class='table-result-container'><table class='table-result'><thead style='background-color: white'><tr><th>metric</th><th>value</th></tr></thead><tbody><tr><td>Products with N/A Color</td><td>50</td></tr><tr><td>NULL Categories after transformation</td><td>46</td></tr><tr><td>Total Products</td><td>303</td></tr></tbody></table></div>"
      ]
     },
     "metadata": {
      "application/vnd.databricks.v1+output": {
       "addedWidgets": {},
       "aggData": [],
       "aggError": "",
       "aggOverflow": false,
       "aggSchema": [],
       "aggSeriesLimitReached": false,
       "aggType": "",
       "arguments": {},
       "columnCustomDisplayInfos": {},
       "data": [
        [
         "Products with N/A Color",
         50
        ],
        [
         "NULL Categories after transformation",
         46
        ],
        [
         "Total Products",
         303
        ]
       ],
       "datasetInfos": [],
       "dbfsResultPath": null,
       "isJsonSchema": true,
       "metadata": {},
       "overflow": false,
       "plotOptions": {
        "customPlotOptions": {},
        "displayType": "table",
        "pivotAggregation": null,
        "pivotColumns": null,
        "xColumns": null,
        "yColumns": null
       },
       "removedWidgets": [],
       "schema": [
        {
         "metadata": "{}",
         "name": "metric",
         "type": "\"string\""
        },
        {
         "metadata": "{}",
         "name": "value",
         "type": "\"long\""
        }
       ],
       "type": "table"
      }
     },
     "output_type": "display_data"
    }
   ],
   "source": [
    "    %sql\n",
    "CREATE OR REPLACE TABLE publish_product AS\n",
    "SELECT \n",
    "    ProductID,\n",
    "    ProductDesc,\n",
    "    ProductNumber,\n",
    "    MakeFlag,\n",
    "    -- Replace NULL values in Color with 'N/A'\n",
    "    COALESCE(Color, 'N/A') AS Color,\n",
    "    SafetyStockLevel,\n",
    "    ReorderPoint,\n",
    "    StandardCost,\n",
    "    ListPrice,\n",
    "    Size,\n",
    "    SizeUnitMeasureCode,\n",
    "    Weight,\n",
    "    WeightUnitMeasureCode,\n",
    "    -- Enhance ProductCategoryName when NULL\n",
    "    CASE \n",
    "        WHEN ProductCategoryName IS NOT NULL THEN ProductCategoryName\n",
    "        WHEN ProductSubCategoryName IN ('Gloves', 'Shorts', 'Socks', 'Tights', 'Vests') THEN 'Clothing'\n",
    "        WHEN ProductSubCategoryName IN ('Locks', 'Lights', 'Headsets', 'Helmets', 'Pedals', 'Pumps') THEN 'Accessories'\n",
    "        WHEN ProductSubCategoryName LIKE '%Frames%' OR ProductSubCategoryName IN ('Wheels', 'Saddles') THEN 'Components'\n",
    "        ELSE ProductCategoryName\n",
    "    END AS ProductCategoryName,\n",
    "    ProductSubCategoryName\n",
    "FROM store_products;\n",
    "\n",
    "-- Verify the transformations\n",
    "SELECT \n",
    "    'Total Products' as metric, COUNT(*) as value \n",
    "FROM publish_product\n",
    "UNION ALL\n",
    "SELECT \n",
    "    'Products with N/A Color', COUNT(*) \n",
    "FROM publish_product \n",
    "WHERE Color = 'N/A'\n",
    "UNION ALL\n",
    "SELECT \n",
    "    'NULL Categories after transformation', COUNT(*) \n",
    "FROM publish_product \n",
    "WHERE ProductCategoryName IS NULL;"
   ]
  },
  {
   "cell_type": "markdown",
   "metadata": {
    "application/vnd.databricks.v1+cell": {
     "cellMetadata": {
      "byteLimit": 2048000,
      "rowLimit": 10000
     },
     "inputWidgets": {},
     "nuid": "f34f8726-1c2c-433a-bc93-b65bfda5e305",
     "showTitle": false,
     "tableResultSettingsMap": {},
     "title": ""
    }
   },
   "source": [
    "### Transformations"
   ]
  },
  {
   "cell_type": "code",
   "execution_count": 0,
   "metadata": {
    "application/vnd.databricks.v1+cell": {
     "cellMetadata": {
      "byteLimit": 2048000,
      "implicitDf": true,
      "rowLimit": 10000
     },
     "inputWidgets": {},
     "nuid": "69618491-7258-4191-8a29-274c566ef510",
     "showTitle": true,
     "tableResultSettingsMap": {},
     "title": "Before Transformation"
    }
   },
   "outputs": [
    {
     "output_type": "display_data",
     "data": {
      "text/html": [
       "<style scoped>\n",
       "  .table-result-container {\n",
       "    max-height: 300px;\n",
       "    overflow: auto;\n",
       "  }\n",
       "  table, th, td {\n",
       "    border: 1px solid black;\n",
       "    border-collapse: collapse;\n",
       "  }\n",
       "  th, td {\n",
       "    padding: 5px;\n",
       "  }\n",
       "  th {\n",
       "    text-align: left;\n",
       "  }\n",
       "</style><div class='table-result-container'><table class='table-result'><thead style='background-color: white'><tr><th>metric</th><th>value</th></tr></thead><tbody><tr><td>BEFORE - NULL Categories in store_products</td><td>190</td></tr><tr><td>BEFORE - NULL Colors in store_products</td><td>50</td></tr></tbody></table></div>"
      ]
     },
     "metadata": {
      "application/vnd.databricks.v1+output": {
       "addedWidgets": {},
       "aggData": [],
       "aggError": "",
       "aggOverflow": false,
       "aggSchema": [],
       "aggSeriesLimitReached": false,
       "aggType": "",
       "arguments": {},
       "columnCustomDisplayInfos": {},
       "data": [
        [
         "BEFORE - NULL Categories in store_products",
         190
        ],
        [
         "BEFORE - NULL Colors in store_products",
         50
        ]
       ],
       "datasetInfos": [],
       "dbfsResultPath": null,
       "isJsonSchema": true,
       "metadata": {},
       "overflow": false,
       "plotOptions": {
        "customPlotOptions": {},
        "displayType": "table",
        "pivotAggregation": null,
        "pivotColumns": null,
        "xColumns": null,
        "yColumns": null
       },
       "removedWidgets": [],
       "schema": [
        {
         "metadata": "{}",
         "name": "metric",
         "type": "\"string\""
        },
        {
         "metadata": "{}",
         "name": "value",
         "type": "\"long\""
        }
       ],
       "type": "table"
      }
     },
     "output_type": "display_data"
    }
   ],
   "source": [
    "%sql\n",
    "-- Check BEFORE transformation (only store_products)\n",
    "SELECT \n",
    "    'BEFORE - NULL Categories in store_products' as metric, COUNT(*) as value\n",
    "FROM store_products WHERE ProductCategoryName IS NULL\n",
    "UNION ALL\n",
    "SELECT \n",
    "    'BEFORE - NULL Colors in store_products', COUNT(*)\n",
    "FROM store_products WHERE Color IS NULL;"
   ]
  },
  {
   "cell_type": "code",
   "execution_count": 0,
   "metadata": {
    "application/vnd.databricks.v1+cell": {
     "cellMetadata": {
      "byteLimit": 2048000,
      "implicitDf": true,
      "rowLimit": 10000
     },
     "inputWidgets": {},
     "nuid": "97b3cd27-8f3c-483f-b2f1-60aeab1cbfff",
     "showTitle": true,
     "tableResultSettingsMap": {},
     "title": "After Transformation"
    }
   },
   "outputs": [
    {
     "output_type": "display_data",
     "data": {
      "text/html": [
       "<style scoped>\n",
       "  .table-result-container {\n",
       "    max-height: 300px;\n",
       "    overflow: auto;\n",
       "  }\n",
       "  table, th, td {\n",
       "    border: 1px solid black;\n",
       "    border-collapse: collapse;\n",
       "  }\n",
       "  th, td {\n",
       "    padding: 5px;\n",
       "  }\n",
       "  th {\n",
       "    text-align: left;\n",
       "  }\n",
       "</style><div class='table-result-container'><table class='table-result'><thead style='background-color: white'><tr><th>metric</th><th>value</th></tr></thead><tbody><tr><td>AFTER - NULL Categories in publish_product</td><td>46</td></tr><tr><td>AFTER - Products with N/A Color</td><td>50</td></tr></tbody></table></div>"
      ]
     },
     "metadata": {
      "application/vnd.databricks.v1+output": {
       "addedWidgets": {},
       "aggData": [],
       "aggError": "",
       "aggOverflow": false,
       "aggSchema": [],
       "aggSeriesLimitReached": false,
       "aggType": "",
       "arguments": {},
       "columnCustomDisplayInfos": {},
       "data": [
        [
         "AFTER - NULL Categories in publish_product",
         46
        ],
        [
         "AFTER - Products with N/A Color",
         50
        ]
       ],
       "datasetInfos": [],
       "dbfsResultPath": null,
       "isJsonSchema": true,
       "metadata": {},
       "overflow": false,
       "plotOptions": {
        "customPlotOptions": {},
        "displayType": "table",
        "pivotAggregation": null,
        "pivotColumns": null,
        "xColumns": null,
        "yColumns": null
       },
       "removedWidgets": [],
       "schema": [
        {
         "metadata": "{}",
         "name": "metric",
         "type": "\"string\""
        },
        {
         "metadata": "{}",
         "name": "value",
         "type": "\"long\""
        }
       ],
       "type": "table"
      }
     },
     "output_type": "display_data"
    }
   ],
   "source": [
    "%sql\n",
    "-- Check AFTER transformation\n",
    "SELECT \n",
    "    'AFTER - NULL Categories in publish_product' as metric, COUNT(*) as value\n",
    "FROM publish_product WHERE ProductCategoryName IS NULL\n",
    "UNION ALL\n",
    "SELECT \n",
    "    'AFTER - Products with N/A Color', COUNT(*)\n",
    "FROM publish_product WHERE Color = 'N/A';"
   ]
  },
  {
   "cell_type": "code",
   "execution_count": 0,
   "metadata": {
    "application/vnd.databricks.v1+cell": {
     "cellMetadata": {
      "byteLimit": 2048000,
      "implicitDf": true,
      "rowLimit": 10000
     },
     "inputWidgets": {},
     "nuid": "e22d07f9-2aee-41db-a829-1893bff6e9ee",
     "showTitle": true,
     "tableResultSettingsMap": {},
     "title": "Validate BEFORE transformation numbers"
    }
   },
   "outputs": [
    {
     "output_type": "display_data",
     "data": {
      "text/html": [
       "<style scoped>\n",
       "  .table-result-container {\n",
       "    max-height: 300px;\n",
       "    overflow: auto;\n",
       "  }\n",
       "  table, th, td {\n",
       "    border: 1px solid black;\n",
       "    border-collapse: collapse;\n",
       "  }\n",
       "  th, td {\n",
       "    padding: 5px;\n",
       "  }\n",
       "  th {\n",
       "    text-align: left;\n",
       "  }\n",
       "</style><div class='table-result-container'><table class='table-result'><thead style='background-color: white'><tr><th>ProductID</th><th>ProductDesc</th><th>ProductSubCategoryName</th><th>ProductCategoryName</th></tr></thead><tbody><tr><td>680</td><td>HL Road Frame - Black, 58</td><td>Road Frames</td><td>null</td></tr><tr><td>706</td><td>HL Road Frame - Red, 58</td><td>Road Frames</td><td>null</td></tr><tr><td>707</td><td>Sport-100 Helmet, Red</td><td>Helmets</td><td>null</td></tr><tr><td>708</td><td>Sport-100 Helmet, Black</td><td>Helmets</td><td>null</td></tr><tr><td>709</td><td>Mountain Bike Socks, M</td><td>Socks</td><td>null</td></tr></tbody></table></div>"
      ]
     },
     "metadata": {
      "application/vnd.databricks.v1+output": {
       "addedWidgets": {},
       "aggData": [],
       "aggError": "",
       "aggOverflow": false,
       "aggSchema": [],
       "aggSeriesLimitReached": false,
       "aggType": "",
       "arguments": {},
       "columnCustomDisplayInfos": {},
       "data": [
        [
         680,
         "HL Road Frame - Black, 58",
         "Road Frames",
         null
        ],
        [
         706,
         "HL Road Frame - Red, 58",
         "Road Frames",
         null
        ],
        [
         707,
         "Sport-100 Helmet, Red",
         "Helmets",
         null
        ],
        [
         708,
         "Sport-100 Helmet, Black",
         "Helmets",
         null
        ],
        [
         709,
         "Mountain Bike Socks, M",
         "Socks",
         null
        ]
       ],
       "datasetInfos": [],
       "dbfsResultPath": null,
       "isJsonSchema": true,
       "metadata": {},
       "overflow": false,
       "plotOptions": {
        "customPlotOptions": {},
        "displayType": "table",
        "pivotAggregation": null,
        "pivotColumns": null,
        "xColumns": null,
        "yColumns": null
       },
       "removedWidgets": [],
       "schema": [
        {
         "metadata": "{}",
         "name": "ProductID",
         "type": "\"integer\""
        },
        {
         "metadata": "{}",
         "name": "ProductDesc",
         "type": "\"string\""
        },
        {
         "metadata": "{}",
         "name": "ProductSubCategoryName",
         "type": "\"string\""
        },
        {
         "metadata": "{}",
         "name": "ProductCategoryName",
         "type": "\"string\""
        }
       ],
       "type": "table"
      }
     },
     "output_type": "display_data"
    }
   ],
   "source": [
    "%sql\n",
    "-- Check data quality BEFORE transformation in store_products\n",
    "SELECT \n",
    "    'BEFORE - NULL Categories in store_products' as metric, \n",
    "    COUNT(*) as value,\n",
    "    ROUND(COUNT(*) * 100.0 / 303, 1) as percentage\n",
    "FROM store_products \n",
    "WHERE ProductCategoryName IS NULL\n",
    "\n",
    "UNION ALL\n",
    "\n",
    "SELECT \n",
    "    'BEFORE - NULL Colors in store_products', \n",
    "    COUNT(*),\n",
    "    ROUND(COUNT(*) * 100.0 / 303, 1)\n",
    "FROM store_products \n",
    "WHERE Color IS NULL\n",
    "\n",
    "UNION ALL\n",
    "\n",
    "-- Also check distribution of categories before transformation\n",
    "SELECT \n",
    "    'BEFORE - Products WITH Category', \n",
    "    COUNT(*),\n",
    "    ROUND(COUNT(*) * 100.0 / 303, 1)\n",
    "FROM store_products \n",
    "WHERE ProductCategoryName IS NOT NULL;\n",
    "\n",
    "-- Show sample of NULL category products\n",
    "SELECT ProductID, ProductDesc, ProductSubCategoryName, ProductCategoryName\n",
    "FROM store_products\n",
    "WHERE ProductCategoryName IS NULL\n",
    "LIMIT 5;"
   ]
  },
  {
   "cell_type": "code",
   "execution_count": 0,
   "metadata": {
    "application/vnd.databricks.v1+cell": {
     "cellMetadata": {
      "byteLimit": 2048000,
      "implicitDf": true,
      "rowLimit": 10000
     },
     "inputWidgets": {},
     "nuid": "d3107d62-084f-4e9c-baf2-fce4e4401051",
     "showTitle": true,
     "tableResultSettingsMap": {},
     "title": "Check category distribution after transformation"
    }
   },
   "outputs": [
    {
     "output_type": "display_data",
     "data": {
      "text/html": [
       "<style scoped>\n",
       "  .table-result-container {\n",
       "    max-height: 300px;\n",
       "    overflow: auto;\n",
       "  }\n",
       "  table, th, td {\n",
       "    border: 1px solid black;\n",
       "    border-collapse: collapse;\n",
       "  }\n",
       "  th, td {\n",
       "    padding: 5px;\n",
       "  }\n",
       "  th {\n",
       "    text-align: left;\n",
       "  }\n",
       "</style><div class='table-result-container'><table class='table-result'><thead style='background-color: white'><tr><th>Category</th><th>ProductCount</th></tr></thead><tbody><tr><td>Components</td><td>145</td></tr><tr><td>Clothing</td><td>53</td></tr><tr><td>NULL</td><td>46</td></tr><tr><td>Bikes</td><td>32</td></tr><tr><td>Accessories</td><td>27</td></tr></tbody></table></div>"
      ]
     },
     "metadata": {
      "application/vnd.databricks.v1+output": {
       "addedWidgets": {},
       "aggData": [],
       "aggError": "",
       "aggOverflow": false,
       "aggSchema": [],
       "aggSeriesLimitReached": false,
       "aggType": "",
       "arguments": {},
       "columnCustomDisplayInfos": {},
       "data": [
        [
         "Components",
         145
        ],
        [
         "Clothing",
         53
        ],
        [
         "NULL",
         46
        ],
        [
         "Bikes",
         32
        ],
        [
         "Accessories",
         27
        ]
       ],
       "datasetInfos": [],
       "dbfsResultPath": null,
       "isJsonSchema": true,
       "metadata": {},
       "overflow": false,
       "plotOptions": {
        "customPlotOptions": {},
        "displayType": "table",
        "pivotAggregation": null,
        "pivotColumns": null,
        "xColumns": null,
        "yColumns": null
       },
       "removedWidgets": [],
       "schema": [
        {
         "metadata": "{}",
         "name": "Category",
         "type": "\"string\""
        },
        {
         "metadata": "{}",
         "name": "ProductCount",
         "type": "\"long\""
        }
       ],
       "type": "table"
      }
     },
     "output_type": "display_data"
    }
   ],
   "source": [
    "%sql\n",
    "\n",
    "SELECT \n",
    "    COALESCE(ProductCategoryName, 'NULL') as Category, \n",
    "    COUNT(*) as ProductCount\n",
    "FROM publish_product\n",
    "GROUP BY ProductCategoryName\n",
    "ORDER BY ProductCount DESC;"
   ]
  },
  {
   "cell_type": "code",
   "execution_count": 0,
   "metadata": {
    "application/vnd.databricks.v1+cell": {
     "cellMetadata": {
      "byteLimit": 2048000,
      "implicitDf": true,
      "rowLimit": 10000
     },
     "inputWidgets": {},
     "nuid": "00c736f0-6797-4b93-9ed3-46b0e7eee49e",
     "showTitle": true,
     "tableResultSettingsMap": {},
     "title": "Function to calculate business days between two dates"
    }
   },
   "outputs": [
    {
     "output_type": "display_data",
     "data": {
      "text/html": [
       "<style scoped>\n",
       "  .table-result-container {\n",
       "    max-height: 300px;\n",
       "    overflow: auto;\n",
       "  }\n",
       "  table, th, td {\n",
       "    border: 1px solid black;\n",
       "    border-collapse: collapse;\n",
       "  }\n",
       "  th, td {\n",
       "    padding: 5px;\n",
       "  }\n",
       "  th {\n",
       "    text-align: left;\n",
       "  }\n",
       "</style><div class='table-result-container'><table class='table-result'><thead style='background-color: white'><tr></tr></thead><tbody></tbody></table></div>"
      ]
     },
     "metadata": {
      "application/vnd.databricks.v1+output": {
       "addedWidgets": {},
       "aggData": [],
       "aggError": "",
       "aggOverflow": false,
       "aggSchema": [],
       "aggSeriesLimitReached": false,
       "aggType": "",
       "arguments": {},
       "columnCustomDisplayInfos": {},
       "data": [],
       "datasetInfos": [],
       "dbfsResultPath": null,
       "isJsonSchema": true,
       "metadata": {},
       "overflow": false,
       "plotOptions": {
        "customPlotOptions": {},
        "displayType": "table",
        "pivotAggregation": null,
        "pivotColumns": null,
        "xColumns": null,
        "yColumns": null
       },
       "removedWidgets": [],
       "schema": [],
       "type": "table"
      }
     },
     "output_type": "display_data"
    }
   ],
   "source": [
    "%sql\n",
    "CREATE OR REPLACE FUNCTION calculate_business_days(start_date DATE, end_date DATE)\n",
    "RETURNS INT\n",
    "RETURN \n",
    "  CASE \n",
    "    WHEN start_date IS NULL OR end_date IS NULL THEN NULL\n",
    "    ELSE \n",
    "      -- Total days minus weekends\n",
    "      DATEDIFF(end_date, start_date) \n",
    "      -- Subtract complete weeks * 2 (Saturday and Sunday)\n",
    "      - (2 * FLOOR(DATEDIFF(end_date, start_date) / 7))\n",
    "      -- Adjust for partial week\n",
    "      - CASE \n",
    "          -- If start is Sunday and end is not Sunday, subtract 1\n",
    "          WHEN DAYOFWEEK(start_date) = 1 AND DAYOFWEEK(end_date) != 1 THEN 1\n",
    "          -- If start is not Saturday and end is Saturday, subtract 1\n",
    "          WHEN DAYOFWEEK(start_date) != 7 AND DAYOFWEEK(end_date) = 7 THEN 1\n",
    "          -- If start is Sunday and end is Saturday, subtract 2\n",
    "          WHEN DAYOFWEEK(start_date) = 1 AND DAYOFWEEK(end_date) = 7 THEN 2\n",
    "          ELSE 0\n",
    "        END\n",
    "  END;"
   ]
  },
  {
   "cell_type": "code",
   "execution_count": 0,
   "metadata": {
    "application/vnd.databricks.v1+cell": {
     "cellMetadata": {
      "byteLimit": 2048000,
      "implicitDf": true,
      "rowLimit": 10000
     },
     "inputWidgets": {},
     "nuid": "e1c207d1-0484-4008-9b72-59c4e8aeb28d",
     "showTitle": true,
     "tableResultSettingsMap": {},
     "title": "Check for NULL business days"
    }
   },
   "outputs": [
    {
     "output_type": "display_data",
     "data": {
      "text/html": [
       "<style scoped>\n",
       "  .table-result-container {\n",
       "    max-height: 300px;\n",
       "    overflow: auto;\n",
       "  }\n",
       "  table, th, td {\n",
       "    border: 1px solid black;\n",
       "    border-collapse: collapse;\n",
       "  }\n",
       "  th, td {\n",
       "    padding: 5px;\n",
       "  }\n",
       "  th {\n",
       "    text-align: left;\n",
       "  }\n",
       "</style><div class='table-result-container'><table class='table-result'><thead style='background-color: white'><tr><th>OrderQty</th><th>UnitPrice</th><th>UnitPriceDiscount</th><th>TotalLineExtendedPrice</th><th>CheckCalc</th><th>Validation</th></tr></thead><tbody><tr><td>1</td><td>2024.99</td><td>0.00</td><td>2024.99</td><td>2024.99</td><td>OK</td></tr><tr><td>3</td><td>2024.99</td><td>0.00</td><td>6074.97</td><td>6074.97</td><td>OK</td></tr><tr><td>1</td><td>2024.99</td><td>0.00</td><td>2024.99</td><td>2024.99</td><td>OK</td></tr><tr><td>1</td><td>2039.99</td><td>0.00</td><td>2039.99</td><td>2039.99</td><td>OK</td></tr><tr><td>1</td><td>2039.99</td><td>0.00</td><td>2039.99</td><td>2039.99</td><td>OK</td></tr><tr><td>2</td><td>2039.99</td><td>0.00</td><td>4079.98</td><td>4079.98</td><td>OK</td></tr><tr><td>1</td><td>2039.99</td><td>0.00</td><td>2039.99</td><td>2039.99</td><td>OK</td></tr><tr><td>3</td><td>28.84</td><td>0.00</td><td>86.52</td><td>86.52</td><td>OK</td></tr><tr><td>1</td><td>28.84</td><td>0.00</td><td>28.84</td><td>28.84</td><td>OK</td></tr><tr><td>6</td><td>5.70</td><td>0.00</td><td>34.20</td><td>34.20</td><td>OK</td></tr></tbody></table></div>"
      ]
     },
     "metadata": {
      "application/vnd.databricks.v1+output": {
       "addedWidgets": {},
       "aggData": [],
       "aggError": "",
       "aggOverflow": false,
       "aggSchema": [],
       "aggSeriesLimitReached": false,
       "aggType": "",
       "arguments": {},
       "columnCustomDisplayInfos": {},
       "data": [
        [
         1,
         "2024.99",
         "0.00",
         "2024.99",
         "2024.99",
         "OK"
        ],
        [
         3,
         "2024.99",
         "0.00",
         "6074.97",
         "6074.97",
         "OK"
        ],
        [
         1,
         "2024.99",
         "0.00",
         "2024.99",
         "2024.99",
         "OK"
        ],
        [
         1,
         "2039.99",
         "0.00",
         "2039.99",
         "2039.99",
         "OK"
        ],
        [
         1,
         "2039.99",
         "0.00",
         "2039.99",
         "2039.99",
         "OK"
        ],
        [
         2,
         "2039.99",
         "0.00",
         "4079.98",
         "4079.98",
         "OK"
        ],
        [
         1,
         "2039.99",
         "0.00",
         "2039.99",
         "2039.99",
         "OK"
        ],
        [
         3,
         "28.84",
         "0.00",
         "86.52",
         "86.52",
         "OK"
        ],
        [
         1,
         "28.84",
         "0.00",
         "28.84",
         "28.84",
         "OK"
        ],
        [
         6,
         "5.70",
         "0.00",
         "34.20",
         "34.20",
         "OK"
        ]
       ],
       "datasetInfos": [],
       "dbfsResultPath": null,
       "isJsonSchema": true,
       "metadata": {},
       "overflow": false,
       "plotOptions": {
        "customPlotOptions": {},
        "displayType": "table",
        "pivotAggregation": null,
        "pivotColumns": null,
        "xColumns": null,
        "yColumns": null
       },
       "removedWidgets": [],
       "schema": [
        {
         "metadata": "{}",
         "name": "OrderQty",
         "type": "\"integer\""
        },
        {
         "metadata": "{}",
         "name": "UnitPrice",
         "type": "\"decimal(10,2)\""
        },
        {
         "metadata": "{}",
         "name": "UnitPriceDiscount",
         "type": "\"decimal(10,2)\""
        },
        {
         "metadata": "{}",
         "name": "TotalLineExtendedPrice",
         "type": "\"decimal(22,2)\""
        },
        {
         "metadata": "{}",
         "name": "CheckCalc",
         "type": "\"decimal(22,2)\""
        },
        {
         "metadata": "{}",
         "name": "Validation",
         "type": "\"string\""
        }
       ],
       "type": "table"
      }
     },
     "output_type": "display_data"
    }
   ],
   "source": [
    "%sql\n",
    "SELECT COUNT(*) as null_lead_time_count \n",
    "FROM publish_orders \n",
    "WHERE LeadTimeInBusinessDays IS NULL;\n",
    "\n",
    "SELECT * \n",
    "FROM publish_orders \n",
    "WHERE LeadTimeInBusinessDays > 20\n",
    "LIMIT 10;\n",
    "\n",
    "SELECT \n",
    "    OrderQty, \n",
    "    UnitPrice, \n",
    "    UnitPriceDiscount,\n",
    "    TotalLineExtendedPrice,\n",
    "    OrderQty * (UnitPrice - UnitPriceDiscount) as CheckCalc,\n",
    "    CASE \n",
    "        WHEN TotalLineExtendedPrice = OrderQty * (UnitPrice - UnitPriceDiscount) \n",
    "        THEN 'OK' \n",
    "        ELSE 'ERROR' \n",
    "    END as Validation\n",
    "FROM publish_orders \n",
    "LIMIT 10;"
   ]
  },
  {
   "cell_type": "code",
   "execution_count": 0,
   "metadata": {
    "application/vnd.databricks.v1+cell": {
     "cellMetadata": {
      "byteLimit": 2048000,
      "implicitDf": true,
      "rowLimit": 10000
     },
     "inputWidgets": {},
     "nuid": "b375ab6d-0277-4c49-a2ff-5aef3a461be2",
     "showTitle": true,
     "tableResultSettingsMap": {},
     "title": "Check calculations"
    }
   },
   "outputs": [
    {
     "output_type": "display_data",
     "data": {
      "text/html": [
       "<style scoped>\n",
       "  .table-result-container {\n",
       "    max-height: 300px;\n",
       "    overflow: auto;\n",
       "  }\n",
       "  table, th, td {\n",
       "    border: 1px solid black;\n",
       "    border-collapse: collapse;\n",
       "  }\n",
       "  th, td {\n",
       "    padding: 5px;\n",
       "  }\n",
       "  th {\n",
       "    text-align: left;\n",
       "  }\n",
       "</style><div class='table-result-container'><table class='table-result'><thead style='background-color: white'><tr><th>SalesOrderID</th><th>OrderDate</th><th>ShipDate</th><th>LeadTimeInBusinessDays</th><th>OrderQty</th><th>UnitPrice</th><th>UnitPriceDiscount</th><th>TotalLineExtendedPrice</th></tr></thead><tbody><tr><td>43659</td><td>2021-05-31</td><td>2021-06-07</td><td>5</td><td>1</td><td>2024.99</td><td>0.00</td><td>2024.99</td></tr><tr><td>43659</td><td>2021-05-31</td><td>2021-06-07</td><td>5</td><td>3</td><td>2024.99</td><td>0.00</td><td>6074.97</td></tr><tr><td>43659</td><td>2021-05-31</td><td>2021-06-07</td><td>5</td><td>1</td><td>2024.99</td><td>0.00</td><td>2024.99</td></tr><tr><td>43659</td><td>2021-05-31</td><td>2021-06-07</td><td>5</td><td>1</td><td>2039.99</td><td>0.00</td><td>2039.99</td></tr><tr><td>43659</td><td>2021-05-31</td><td>2021-06-07</td><td>5</td><td>1</td><td>2039.99</td><td>0.00</td><td>2039.99</td></tr><tr><td>43659</td><td>2021-05-31</td><td>2021-06-07</td><td>5</td><td>2</td><td>2039.99</td><td>0.00</td><td>4079.98</td></tr><tr><td>43659</td><td>2021-05-31</td><td>2021-06-07</td><td>5</td><td>1</td><td>2039.99</td><td>0.00</td><td>2039.99</td></tr><tr><td>43659</td><td>2021-05-31</td><td>2021-06-07</td><td>5</td><td>3</td><td>28.84</td><td>0.00</td><td>86.52</td></tr><tr><td>43659</td><td>2021-05-31</td><td>2021-06-07</td><td>5</td><td>1</td><td>28.84</td><td>0.00</td><td>28.84</td></tr><tr><td>43659</td><td>2021-05-31</td><td>2021-06-07</td><td>5</td><td>6</td><td>5.70</td><td>0.00</td><td>34.20</td></tr></tbody></table></div>"
      ]
     },
     "metadata": {
      "application/vnd.databricks.v1+output": {
       "addedWidgets": {},
       "aggData": [],
       "aggError": "",
       "aggOverflow": false,
       "aggSchema": [],
       "aggSeriesLimitReached": false,
       "aggType": "",
       "arguments": {},
       "columnCustomDisplayInfos": {},
       "data": [
        [
         43659,
         "2021-05-31",
         "2021-06-07",
         5,
         1,
         "2024.99",
         "0.00",
         "2024.99"
        ],
        [
         43659,
         "2021-05-31",
         "2021-06-07",
         5,
         3,
         "2024.99",
         "0.00",
         "6074.97"
        ],
        [
         43659,
         "2021-05-31",
         "2021-06-07",
         5,
         1,
         "2024.99",
         "0.00",
         "2024.99"
        ],
        [
         43659,
         "2021-05-31",
         "2021-06-07",
         5,
         1,
         "2039.99",
         "0.00",
         "2039.99"
        ],
        [
         43659,
         "2021-05-31",
         "2021-06-07",
         5,
         1,
         "2039.99",
         "0.00",
         "2039.99"
        ],
        [
         43659,
         "2021-05-31",
         "2021-06-07",
         5,
         2,
         "2039.99",
         "0.00",
         "4079.98"
        ],
        [
         43659,
         "2021-05-31",
         "2021-06-07",
         5,
         1,
         "2039.99",
         "0.00",
         "2039.99"
        ],
        [
         43659,
         "2021-05-31",
         "2021-06-07",
         5,
         3,
         "28.84",
         "0.00",
         "86.52"
        ],
        [
         43659,
         "2021-05-31",
         "2021-06-07",
         5,
         1,
         "28.84",
         "0.00",
         "28.84"
        ],
        [
         43659,
         "2021-05-31",
         "2021-06-07",
         5,
         6,
         "5.70",
         "0.00",
         "34.20"
        ]
       ],
       "datasetInfos": [],
       "dbfsResultPath": null,
       "isJsonSchema": true,
       "metadata": {},
       "overflow": false,
       "plotOptions": {
        "customPlotOptions": {},
        "displayType": "table",
        "pivotAggregation": null,
        "pivotColumns": null,
        "xColumns": null,
        "yColumns": null
       },
       "removedWidgets": [],
       "schema": [
        {
         "metadata": "{}",
         "name": "SalesOrderID",
         "type": "\"integer\""
        },
        {
         "metadata": "{}",
         "name": "OrderDate",
         "type": "\"date\""
        },
        {
         "metadata": "{}",
         "name": "ShipDate",
         "type": "\"date\""
        },
        {
         "metadata": "{}",
         "name": "LeadTimeInBusinessDays",
         "type": "\"integer\""
        },
        {
         "metadata": "{}",
         "name": "OrderQty",
         "type": "\"integer\""
        },
        {
         "metadata": "{}",
         "name": "UnitPrice",
         "type": "\"decimal(10,2)\""
        },
        {
         "metadata": "{}",
         "name": "UnitPriceDiscount",
         "type": "\"decimal(10,2)\""
        },
        {
         "metadata": "{}",
         "name": "TotalLineExtendedPrice",
         "type": "\"decimal(22,2)\""
        }
       ],
       "type": "table"
      }
     },
     "output_type": "display_data"
    }
   ],
   "source": [
    "%sql\n",
    "\n",
    "SELECT \n",
    "    SalesOrderID,\n",
    "    OrderDate,\n",
    "    ShipDate,\n",
    "    LeadTimeInBusinessDays,\n",
    "    OrderQty,\n",
    "    UnitPrice,\n",
    "    UnitPriceDiscount,\n",
    "    TotalLineExtendedPrice\n",
    "FROM publish_orders\n",
    "LIMIT 10;"
   ]
  },
  {
   "cell_type": "markdown",
   "metadata": {
    "application/vnd.databricks.v1+cell": {
     "cellMetadata": {
      "byteLimit": 2048000,
      "rowLimit": 10000
     },
     "inputWidgets": {},
     "nuid": "887d45d6-afc1-462c-ac91-0084d57d0ee1",
     "showTitle": false,
     "tableResultSettingsMap": {},
     "title": ""
    }
   },
   "source": [
    "### Measure Performance"
   ]
  },
  {
   "cell_type": "code",
   "execution_count": 0,
   "metadata": {
    "application/vnd.databricks.v1+cell": {
     "cellMetadata": {
      "byteLimit": 2048000,
      "rowLimit": 10000
     },
     "inputWidgets": {},
     "nuid": "0a2ff515-2055-4430-860b-9cdb70bf81af",
     "showTitle": true,
     "tableResultSettingsMap": {},
     "title": "Measure query performance"
    }
   },
   "outputs": [
    {
     "output_type": "stream",
     "name": "stdout",
     "output_type": "stream",
     "text": [
      "1. Count query time: 0.99 seconds\n   Total records: 121,317\n\n2. Aggregation query time: 1.05 seconds\n\n3. Join query time: 1.34 seconds\n\n4. Complex analysis time: 1.41 seconds\n\n5. Storage Information:\n+-----------+--------+\n|sizeInBytes|numFiles|\n+-----------+--------+\n|    1961779|       2|\n+-----------+--------+\n\n+-----------+--------+\n|sizeInBytes|numFiles|\n+-----------+--------+\n|      13630|       1|\n+-----------+--------+\n\n"
     ]
    }
   ],
   "source": [
    "import time\n",
    "# Test 1: Simple count query\n",
    "start_time = time.time()\n",
    "count = spark.sql(\"SELECT COUNT(*) FROM publish_orders\").collect()[0][0]\n",
    "end_time = time.time()\n",
    "print(f\"1. Count query time: {end_time - start_time:.2f} seconds\")\n",
    "print(f\"   Total records: {count:,}\")\n",
    "# Test 2: Aggregation query (revenue by year)\n",
    "start_time = time.time()\n",
    "spark.sql(\"\"\"\n",
    "    SELECT YEAR(OrderDate) as Year, SUM(TotalLineExtendedPrice) as Revenue\n",
    "    FROM publish_orders\n",
    "    GROUP BY YEAR(OrderDate)\n",
    "\"\"\").collect()\n",
    "end_time = time.time()\n",
    "print(f\"\\n2. Aggregation query time: {end_time - start_time:.2f} seconds\")\n",
    "# Test 3: Join query performance\n",
    "start_time = time.time()\n",
    "spark.sql(\"\"\"\n",
    "    SELECT COUNT(*)\n",
    "    FROM publish_orders o\n",
    "    JOIN publish_product p ON o.ProductID = p.ProductID\n",
    "\"\"\").collect()\n",
    "end_time = time.time()\n",
    "print(f\"\\n3. Join query time: {end_time - start_time:.2f} seconds\")\n",
    "# Test 4: Complex analysis query\n",
    "start_time = time.time()\n",
    "spark.sql(\"\"\"\n",
    "    SELECT p.ProductCategoryName, COUNT(*) as Orders\n",
    "    FROM publish_orders o\n",
    "    JOIN publish_product p ON o.ProductID = p.ProductID\n",
    "    GROUP BY p.ProductCategoryName\n",
    "\"\"\").collect()\n",
    "end_time = time.time()\n",
    "print(f\"\\n4. Complex analysis time: {end_time - start_time:.2f} seconds\")\n",
    "# Storage information\n",
    "print(\"\\n5. Storage Information:\")\n",
    "spark.sql(\"DESCRIBE DETAIL publish_orders\").select(\"sizeInBytes\", \"numFiles\").show()\n",
    "spark.sql(\"DESCRIBE DETAIL publish_product\").select(\"sizeInBytes\", \"numFiles\").show()"
   ]
  },
  {
   "cell_type": "code",
   "execution_count": 0,
   "metadata": {
    "application/vnd.databricks.v1+cell": {
     "cellMetadata": {
      "byteLimit": 2048000,
      "rowLimit": 10000
     },
     "inputWidgets": {},
     "nuid": "ef0ea2cc-eb38-437b-928e-1d5acc5b4312",
     "showTitle": true,
     "tableResultSettingsMap": {},
     "title": "TroubleShooting Guide"
    }
   },
   "outputs": [
    {
     "output_type": "display_data",
     "data": {
      "text/html": [
       "<style scoped>\n",
       "  .table-result-container {\n",
       "    max-height: 300px;\n",
       "    overflow: auto;\n",
       "  }\n",
       "  table, th, td {\n",
       "    border: 1px solid black;\n",
       "    border-collapse: collapse;\n",
       "  }\n",
       "  th, td {\n",
       "    padding: 5px;\n",
       "  }\n",
       "  th {\n",
       "    text-align: left;\n",
       "  }\n",
       "</style><div class='table-result-container'><table class='table-result'><thead style='background-color: white'><tr><th>path</th><th>name</th><th>size</th><th>modificationTime</th></tr></thead><tbody><tr><td>dbfs:/FileStore/tables/10Y_lake-1.xlsx</td><td>10Y_lake-1.xlsx</td><td>124274</td><td>1667071700000</td></tr><tr><td>dbfs:/FileStore/tables/10Y_lake.xlsx</td><td>10Y_lake.xlsx</td><td>124274</td><td>1667071572000</td></tr><tr><td>dbfs:/FileStore/tables/GRD_PUBLICO_2019_formatted-1.txt</td><td>GRD_PUBLICO_2019_formatted-1.txt</td><td>572538020</td><td>1742486023000</td></tr><tr><td>dbfs:/FileStore/tables/GRD_PUBLICO_2019_formatted.txt</td><td>GRD_PUBLICO_2019_formatted.txt</td><td>572538020</td><td>1742440723000</td></tr><tr><td>dbfs:/FileStore/tables/GRD_PUBLICO_2020_formated_csv.xlsx</td><td>GRD_PUBLICO_2020_formated_csv.xlsx</td><td>212379385</td><td>1742436082000</td></tr><tr><td>dbfs:/FileStore/tables/GRD_PUBLICO_2020_formated_csvformat.csv</td><td>GRD_PUBLICO_2020_formated_csvformat.csv</td><td>399887780</td><td>1742437578000</td></tr><tr><td>dbfs:/FileStore/tables/GRD_PUBLICO_2020_formatted.txt</td><td>GRD_PUBLICO_2020_formatted.txt</td><td>397026707</td><td>1742486224000</td></tr><tr><td>dbfs:/FileStore/tables/GRD_PUBLICO_2021_csv.csv</td><td>GRD_PUBLICO_2021_csv.csv</td><td>427870918</td><td>1742439551000</td></tr><tr><td>dbfs:/FileStore/tables/GRD_PUBLICO_2021_formatted.txt</td><td>GRD_PUBLICO_2021_formatted.txt</td><td>428657825</td><td>1742486403000</td></tr><tr><td>dbfs:/FileStore/tables/GRD_PUBLICO_2023_csvformatted.csv</td><td>GRD_PUBLICO_2023_csvformatted.csv</td><td>541339028</td><td>1742438024000</td></tr><tr><td>dbfs:/FileStore/tables/GRD_PUBLICO_EXTERNO_2022.txt</td><td>GRD_PUBLICO_EXTERNO_2022.txt</td><td>960774530</td><td>1742487314000</td></tr><tr><td>dbfs:/FileStore/tables/GRD_PUBLICO_EXTERNO_2022_csv.csv</td><td>GRD_PUBLICO_EXTERNO_2022_csv.csv</td><td>484639408</td><td>1742439042000</td></tr><tr><td>dbfs:/FileStore/tables/GRD_PUBLICO_EXTERNO_2022_formatted.txt</td><td>GRD_PUBLICO_EXTERNO_2022_formatted.txt</td><td>960774530</td><td>1742486714000</td></tr><tr><td>dbfs:/FileStore/tables/Petrol_Dataset_June_20_2022.csv</td><td>Petrol_Dataset_June_20_2022.csv</td><td>8937</td><td>1656268306000</td></tr><tr><td>dbfs:/FileStore/tables/Test-1.csv</td><td>Test-1.csv</td><td>527709</td><td>1658604017000</td></tr><tr><td>dbfs:/FileStore/tables/Test.csv</td><td>Test.csv</td><td>527709</td><td>1658596960000</td></tr><tr><td>dbfs:/FileStore/tables/alura_dataset.csv</td><td>alura_dataset.csv</td><td>22597</td><td>1662758886000</td></tr><tr><td>dbfs:/FileStore/tables/grd_publico_2020_csv.csv</td><td>grd_publico_2020_csv.csv</td><td>399887780</td><td>1742440229000</td></tr><tr><td>dbfs:/FileStore/tables/movies-1.csv</td><td>movies-1.csv</td><td>1352598</td><td>1658603330000</td></tr><tr><td>dbfs:/FileStore/tables/movies-2.csv</td><td>movies-2.csv</td><td>1352598</td><td>1658603587000</td></tr><tr><td>dbfs:/FileStore/tables/movies.csv</td><td>movies.csv</td><td>1352598</td><td>1658596489000</td></tr><tr><td>dbfs:/FileStore/tables/products__1_.csv</td><td>products__1_.csv</td><td>39068</td><td>1753463178000</td></tr><tr><td>dbfs:/FileStore/tables/sales_order_detail__1_-1.csv</td><td>sales_order_detail__1_-1.csv</td><td>5521253</td><td>1753463360000</td></tr><tr><td>dbfs:/FileStore/tables/sales_order_detail__1_.csv</td><td>sales_order_detail__1_.csv</td><td>5521253</td><td>1753463242000</td></tr><tr><td>dbfs:/FileStore/tables/sales_order_header__1_.csv</td><td>sales_order_header__1_.csv</td><td>2517409</td><td>1753463289000</td></tr><tr><td>dbfs:/FileStore/tables/tabela_bagunca.csv</td><td>tabela_bagunca.csv</td><td>103884</td><td>1667071819000</td></tr><tr><td>dbfs:/FileStore/tables/teste_csv-1.csv</td><td>teste_csv-1.csv</td><td>6485</td><td>1668297784000</td></tr><tr><td>dbfs:/FileStore/tables/teste_csv-2.csv</td><td>teste_csv-2.csv</td><td>6485</td><td>1668297841000</td></tr><tr><td>dbfs:/FileStore/tables/teste_csv.csv</td><td>teste_csv.csv</td><td>6485</td><td>1668297675000</td></tr></tbody></table></div>"
      ]
     },
     "metadata": {
      "application/vnd.databricks.v1+output": {
       "addedWidgets": {},
       "aggData": [],
       "aggError": "",
       "aggOverflow": false,
       "aggSchema": [],
       "aggSeriesLimitReached": false,
       "aggType": "",
       "arguments": {},
       "columnCustomDisplayInfos": {},
       "data": [
        [
         "dbfs:/FileStore/tables/10Y_lake-1.xlsx",
         "10Y_lake-1.xlsx",
         124274,
         1667071700000
        ],
        [
         "dbfs:/FileStore/tables/10Y_lake.xlsx",
         "10Y_lake.xlsx",
         124274,
         1667071572000
        ],
        [
         "dbfs:/FileStore/tables/GRD_PUBLICO_2019_formatted-1.txt",
         "GRD_PUBLICO_2019_formatted-1.txt",
         572538020,
         1742486023000
        ],
        [
         "dbfs:/FileStore/tables/GRD_PUBLICO_2019_formatted.txt",
         "GRD_PUBLICO_2019_formatted.txt",
         572538020,
         1742440723000
        ],
        [
         "dbfs:/FileStore/tables/GRD_PUBLICO_2020_formated_csv.xlsx",
         "GRD_PUBLICO_2020_formated_csv.xlsx",
         212379385,
         1742436082000
        ],
        [
         "dbfs:/FileStore/tables/GRD_PUBLICO_2020_formated_csvformat.csv",
         "GRD_PUBLICO_2020_formated_csvformat.csv",
         399887780,
         1742437578000
        ],
        [
         "dbfs:/FileStore/tables/GRD_PUBLICO_2020_formatted.txt",
         "GRD_PUBLICO_2020_formatted.txt",
         397026707,
         1742486224000
        ],
        [
         "dbfs:/FileStore/tables/GRD_PUBLICO_2021_csv.csv",
         "GRD_PUBLICO_2021_csv.csv",
         427870918,
         1742439551000
        ],
        [
         "dbfs:/FileStore/tables/GRD_PUBLICO_2021_formatted.txt",
         "GRD_PUBLICO_2021_formatted.txt",
         428657825,
         1742486403000
        ],
        [
         "dbfs:/FileStore/tables/GRD_PUBLICO_2023_csvformatted.csv",
         "GRD_PUBLICO_2023_csvformatted.csv",
         541339028,
         1742438024000
        ],
        [
         "dbfs:/FileStore/tables/GRD_PUBLICO_EXTERNO_2022.txt",
         "GRD_PUBLICO_EXTERNO_2022.txt",
         960774530,
         1742487314000
        ],
        [
         "dbfs:/FileStore/tables/GRD_PUBLICO_EXTERNO_2022_csv.csv",
         "GRD_PUBLICO_EXTERNO_2022_csv.csv",
         484639408,
         1742439042000
        ],
        [
         "dbfs:/FileStore/tables/GRD_PUBLICO_EXTERNO_2022_formatted.txt",
         "GRD_PUBLICO_EXTERNO_2022_formatted.txt",
         960774530,
         1742486714000
        ],
        [
         "dbfs:/FileStore/tables/Petrol_Dataset_June_20_2022.csv",
         "Petrol_Dataset_June_20_2022.csv",
         8937,
         1656268306000
        ],
        [
         "dbfs:/FileStore/tables/Test-1.csv",
         "Test-1.csv",
         527709,
         1658604017000
        ],
        [
         "dbfs:/FileStore/tables/Test.csv",
         "Test.csv",
         527709,
         1658596960000
        ],
        [
         "dbfs:/FileStore/tables/alura_dataset.csv",
         "alura_dataset.csv",
         22597,
         1662758886000
        ],
        [
         "dbfs:/FileStore/tables/grd_publico_2020_csv.csv",
         "grd_publico_2020_csv.csv",
         399887780,
         1742440229000
        ],
        [
         "dbfs:/FileStore/tables/movies-1.csv",
         "movies-1.csv",
         1352598,
         1658603330000
        ],
        [
         "dbfs:/FileStore/tables/movies-2.csv",
         "movies-2.csv",
         1352598,
         1658603587000
        ],
        [
         "dbfs:/FileStore/tables/movies.csv",
         "movies.csv",
         1352598,
         1658596489000
        ],
        [
         "dbfs:/FileStore/tables/products__1_.csv",
         "products__1_.csv",
         39068,
         1753463178000
        ],
        [
         "dbfs:/FileStore/tables/sales_order_detail__1_-1.csv",
         "sales_order_detail__1_-1.csv",
         5521253,
         1753463360000
        ],
        [
         "dbfs:/FileStore/tables/sales_order_detail__1_.csv",
         "sales_order_detail__1_.csv",
         5521253,
         1753463242000
        ],
        [
         "dbfs:/FileStore/tables/sales_order_header__1_.csv",
         "sales_order_header__1_.csv",
         2517409,
         1753463289000
        ],
        [
         "dbfs:/FileStore/tables/tabela_bagunca.csv",
         "tabela_bagunca.csv",
         103884,
         1667071819000
        ],
        [
         "dbfs:/FileStore/tables/teste_csv-1.csv",
         "teste_csv-1.csv",
         6485,
         1668297784000
        ],
        [
         "dbfs:/FileStore/tables/teste_csv-2.csv",
         "teste_csv-2.csv",
         6485,
         1668297841000
        ],
        [
         "dbfs:/FileStore/tables/teste_csv.csv",
         "teste_csv.csv",
         6485,
         1668297675000
        ]
       ],
       "datasetInfos": [],
       "dbfsResultPath": null,
       "isJsonSchema": true,
       "metadata": {},
       "overflow": false,
       "plotOptions": {
        "customPlotOptions": {},
        "displayType": "table",
        "pivotAggregation": null,
        "pivotColumns": null,
        "xColumns": null,
        "yColumns": null
       },
       "removedWidgets": [],
       "schema": [
        {
         "metadata": "{}",
         "name": "path",
         "type": "\"string\""
        },
        {
         "metadata": "{}",
         "name": "name",
         "type": "\"string\""
        },
        {
         "metadata": "{}",
         "name": "size",
         "type": "\"long\""
        },
        {
         "metadata": "{}",
         "name": "modificationTime",
         "type": "\"long\""
        }
       ],
       "type": "table"
      }
     },
     "output_type": "display_data"
    },
    {
     "output_type": "stream",
     "name": "stdout",
     "output_type": "stream",
     "text": [
      "✓ File paths accessible\n\n2. Invalid ProductIDs: 0\n3. Money format issues: 0\n\n=== PLATFORM LIMITATIONS ===\n- No PRIMARY/FOREIGN KEY support\n- No Unity Catalog features\n- Limited cluster resources\n- Session timeout after 2 hours\n"
     ]
    }
   ],
   "source": [
    "\n",
    "# 1. Check file paths\n",
    "try:\n",
    "    display(dbutils.fs.ls(\"/FileStore/tables/\"))\n",
    "    print(\"✓ File paths accessible\")\n",
    "except:\n",
    "    print(\"✗ Issue with file paths - use dbutils.fs.ls() to verify\")\n",
    "\n",
    "# 2. Check for non-numeric IDs (potential CAST errors)\n",
    "invalid_ids = spark.sql(\"\"\"\n",
    "    SELECT COUNT(*) as invalid_count\n",
    "    FROM raw_products\n",
    "    WHERE ProductID IS NULL \n",
    "       OR NOT CAST(ProductID AS STRING) RLIKE '^[0-9]+$'\n",
    "\"\"\").collect()[0][0]\n",
    "print(f\"\\n2. Invalid ProductIDs: {invalid_ids}\")\n",
    "\n",
    "# 3. Check for special characters in money fields\n",
    "money_issues = spark.sql(\"\"\"\n",
    "    SELECT COUNT(*) as issues\n",
    "    FROM raw_products\n",
    "    WHERE StandardCost LIKE '%$%' \n",
    "       OR StandardCost LIKE '%,%'\n",
    "\"\"\").collect()[0][0]\n",
    "print(f\"3. Money format issues: {money_issues}\")\n",
    "\n",
    "# 4. Common Databricks Community limitations\n",
    "print(\"\\n=== PLATFORM LIMITATIONS ===\")\n",
    "print(\"- No PRIMARY/FOREIGN KEY support\")\n",
    "print(\"- No Unity Catalog features\")\n",
    "print(\"- Limited cluster resources\")\n",
    "print(\"- Session timeout after 2 hours\")"
   ]
  },
  {
   "cell_type": "markdown",
   "metadata": {
    "application/vnd.databricks.v1+cell": {
     "cellMetadata": {
      "byteLimit": 2048000,
      "rowLimit": 10000
     },
     "inputWidgets": {},
     "nuid": "00362871-5b3e-4f9c-a3a8-c426a679aee6",
     "showTitle": false,
     "tableResultSettingsMap": {},
     "title": ""
    }
   },
   "source": [
    "### Analysis 1\n",
    "- Highest revenue by color per year"
   ]
  },
  {
   "cell_type": "code",
   "execution_count": 0,
   "metadata": {
    "application/vnd.databricks.v1+cell": {
     "cellMetadata": {
      "byteLimit": 2048000,
      "implicitDf": true,
      "rowLimit": 10000
     },
     "inputWidgets": {},
     "nuid": "ab280b7a-c7a8-4641-b2ba-3ec86785d5cd",
     "showTitle": false,
     "tableResultSettingsMap": {},
     "title": ""
    }
   },
   "outputs": [
    {
     "output_type": "display_data",
     "data": {
      "text/html": [
       "<style scoped>\n",
       "  .table-result-container {\n",
       "    max-height: 300px;\n",
       "    overflow: auto;\n",
       "  }\n",
       "  table, th, td {\n",
       "    border: 1px solid black;\n",
       "    border-collapse: collapse;\n",
       "  }\n",
       "  th, td {\n",
       "    padding: 5px;\n",
       "  }\n",
       "  th {\n",
       "    text-align: left;\n",
       "  }\n",
       "</style><div class='table-result-container'><table class='table-result'><thead style='background-color: white'><tr><th>Year</th><th>Color</th><th>TotalRevenue</th></tr></thead><tbody><tr><td>2021</td><td>Red</td><td>6,019,613.15</td></tr><tr><td>2022</td><td>Black</td><td>14,005,216.19</td></tr><tr><td>2023</td><td>Black</td><td>15,047,626.43</td></tr><tr><td>2024</td><td>Yellow</td><td>6,480,720.07</td></tr></tbody></table></div>"
      ]
     },
     "metadata": {
      "application/vnd.databricks.v1+output": {
       "addedWidgets": {},
       "aggData": [],
       "aggError": "",
       "aggOverflow": false,
       "aggSchema": [],
       "aggSeriesLimitReached": false,
       "aggType": "",
       "arguments": {},
       "columnCustomDisplayInfos": {},
       "data": [
        [
         2021,
         "Red",
         "6,019,613.15"
        ],
        [
         2022,
         "Black",
         "14,005,216.19"
        ],
        [
         2023,
         "Black",
         "15,047,626.43"
        ],
        [
         2024,
         "Yellow",
         "6,480,720.07"
        ]
       ],
       "datasetInfos": [],
       "dbfsResultPath": null,
       "isJsonSchema": true,
       "metadata": {},
       "overflow": false,
       "plotOptions": {
        "customPlotOptions": {},
        "displayType": "table",
        "pivotAggregation": null,
        "pivotColumns": null,
        "xColumns": null,
        "yColumns": null
       },
       "removedWidgets": [],
       "schema": [
        {
         "metadata": "{}",
         "name": "Year",
         "type": "\"integer\""
        },
        {
         "metadata": "{}",
         "name": "Color",
         "type": "\"string\""
        },
        {
         "metadata": "{}",
         "name": "TotalRevenue",
         "type": "\"string\""
        }
       ],
       "type": "table"
      }
     },
     "output_type": "display_data"
    }
   ],
   "source": [
    "%sql\n",
    "WITH revenue_by_year_color AS (\n",
    "  SELECT \n",
    "    YEAR(o.OrderDate) AS Year,\n",
    "    p.Color,\n",
    "    SUM(o.TotalLineExtendedPrice) AS TotalRevenue\n",
    "  FROM publish_orders o\n",
    "  JOIN publish_product p ON o.ProductID = p.ProductID\n",
    "  WHERE o.OrderDate IS NOT NULL\n",
    "  GROUP BY YEAR(o.OrderDate), p.Color\n",
    "),\n",
    "ranked_colors AS (\n",
    "  SELECT \n",
    "    Year,\n",
    "    Color,\n",
    "    TotalRevenue,\n",
    "    ROW_NUMBER() OVER (PARTITION BY Year ORDER BY TotalRevenue DESC) as rank\n",
    "  FROM revenue_by_year_color\n",
    ")\n",
    "SELECT \n",
    "  Year,\n",
    "  Color,\n",
    "  FORMAT_NUMBER(TotalRevenue, 2) AS TotalRevenue\n",
    "FROM ranked_colors\n",
    "WHERE rank = 1\n",
    "ORDER BY Year;"
   ]
  },
  {
   "cell_type": "markdown",
   "metadata": {
    "application/vnd.databricks.v1+cell": {
     "cellMetadata": {
      "byteLimit": 2048000,
      "rowLimit": 10000
     },
     "inputWidgets": {},
     "nuid": "05118ccb-955e-410d-95a8-c1031bb3545f",
     "showTitle": false,
     "tableResultSettingsMap": {},
     "title": ""
    }
   },
   "source": [
    "### Analysis 2\n",
    "- What is the average LeadTimeInBusinessDays by ProductCategoryName?"
   ]
  },
  {
   "cell_type": "code",
   "execution_count": 0,
   "metadata": {
    "application/vnd.databricks.v1+cell": {
     "cellMetadata": {
      "byteLimit": 2048000,
      "implicitDf": true,
      "rowLimit": 10000
     },
     "inputWidgets": {},
     "nuid": "968b7a13-332f-48ff-9304-efb5d928ea3c",
     "showTitle": false,
     "tableResultSettingsMap": {},
     "title": ""
    }
   },
   "outputs": [
    {
     "output_type": "display_data",
     "data": {
      "text/html": [
       "<style scoped>\n",
       "  .table-result-container {\n",
       "    max-height: 300px;\n",
       "    overflow: auto;\n",
       "  }\n",
       "  table, th, td {\n",
       "    border: 1px solid black;\n",
       "    border-collapse: collapse;\n",
       "  }\n",
       "  th, td {\n",
       "    padding: 5px;\n",
       "  }\n",
       "  th {\n",
       "    text-align: left;\n",
       "  }\n",
       "</style><div class='table-result-container'><table class='table-result'><thead style='background-color: white'><tr><th>ProductCategoryName</th><th>AvgLeadTimeInBusinessDays</th><th>TotalOrders</th><th>MinLeadTime</th><th>MaxLeadTime</th></tr></thead><tbody><tr><td>Accessories</td><td>5.01</td><td>13021</td><td>5</td><td>7</td></tr><tr><td>Bikes</td><td>5.01</td><td>12457</td><td>5</td><td>26</td></tr><tr><td>Clothing</td><td>5.01</td><td>23880</td><td>5</td><td>6</td></tr><tr><td>Components</td><td>5.01</td><td>34306</td><td>5</td><td>26</td></tr></tbody></table></div>"
      ]
     },
     "metadata": {
      "application/vnd.databricks.v1+output": {
       "addedWidgets": {},
       "aggData": [],
       "aggError": "",
       "aggOverflow": false,
       "aggSchema": [],
       "aggSeriesLimitReached": false,
       "aggType": "",
       "arguments": {},
       "columnCustomDisplayInfos": {},
       "data": [
        [
         "Accessories",
         5.01,
         13021,
         5,
         7
        ],
        [
         "Bikes",
         5.01,
         12457,
         5,
         26
        ],
        [
         "Clothing",
         5.01,
         23880,
         5,
         6
        ],
        [
         "Components",
         5.01,
         34306,
         5,
         26
        ]
       ],
       "datasetInfos": [],
       "dbfsResultPath": null,
       "isJsonSchema": true,
       "metadata": {},
       "overflow": false,
       "plotOptions": {
        "customPlotOptions": {},
        "displayType": "table",
        "pivotAggregation": null,
        "pivotColumns": null,
        "xColumns": null,
        "yColumns": null
       },
       "removedWidgets": [],
       "schema": [
        {
         "metadata": "{}",
         "name": "ProductCategoryName",
         "type": "\"string\""
        },
        {
         "metadata": "{}",
         "name": "AvgLeadTimeInBusinessDays",
         "type": "\"double\""
        },
        {
         "metadata": "{}",
         "name": "TotalOrders",
         "type": "\"long\""
        },
        {
         "metadata": "{}",
         "name": "MinLeadTime",
         "type": "\"integer\""
        },
        {
         "metadata": "{}",
         "name": "MaxLeadTime",
         "type": "\"integer\""
        }
       ],
       "type": "table"
      }
     },
     "output_type": "display_data"
    }
   ],
   "source": [
    "%sql\n",
    "SELECT \n",
    "  p.ProductCategoryName,\n",
    "  ROUND(AVG(o.LeadTimeInBusinessDays), 2) AS AvgLeadTimeInBusinessDays,\n",
    "  COUNT(*) AS TotalOrders,\n",
    "  MIN(o.LeadTimeInBusinessDays) AS MinLeadTime,\n",
    "  MAX(o.LeadTimeInBusinessDays) AS MaxLeadTime\n",
    "FROM publish_orders o\n",
    "JOIN publish_product p ON o.ProductID = p.ProductID\n",
    "WHERE p.ProductCategoryName IS NOT NULL \n",
    "  AND o.LeadTimeInBusinessDays IS NOT NULL\n",
    "GROUP BY p.ProductCategoryName\n",
    "ORDER BY p.ProductCategoryName;"
   ]
  },
  {
   "cell_type": "markdown",
   "metadata": {
    "application/vnd.databricks.v1+cell": {
     "cellMetadata": {
      "byteLimit": 2048000,
      "rowLimit": 10000
     },
     "inputWidgets": {},
     "nuid": "e478ebc5-1455-4ea5-8c62-187ad9ebde47",
     "showTitle": false,
     "tableResultSettingsMap": {},
     "title": ""
    }
   },
   "source": [
    "### Conclusion\n",
    "Analytical Conclusions from the Case Study\n",
    "1. Color Performance Analysis\n",
    "Key Trends:\n",
    "\n",
    "Market Shift: Clear consumer preference transition from Red (2021) to Black (2022-2023)\n",
    "Black Dominance: Black generated $29M over two years, suggesting premium product positioning or mass appeal\n",
    "Yellow Emergence: 2024 shows Yellow as the new leader, indicating possible product innovation or seasonal trend\n",
    "\n",
    "Business Insights:\n",
    "\n",
    "Black products are the company's cash cows - consistent high performers\n",
    "Need to investigate the 50% revenue drop from Red (2021) to understand market dynamics\n",
    "Yellow's sudden rise warrants deeper analysis - new product line? Marketing campaign effect?\n",
    "\n",
    "2. Operational Efficiency Analysis\n",
    "Remarkably Consistent Lead Times:\n",
    "\n",
    "5.01 business days average across ALL categories\n",
    "Minimal variance (mostly 5-7 days)\n",
    "Notable outliers: Bikes and Components reaching 26 days\n",
    "\n",
    "Strategic Implications:\n",
    "\n",
    "Operational Excellence: Standardized fulfillment process across product lines\n",
    "No Category Bias: Equal service levels regardless of product type\n",
    "Hidden Issues: 26-day outliers suggest potential supply chain disruptions for complex products\n",
    "\n",
    "3. Business Health Indicators\n",
    "Positive Signals:\n",
    "\n",
    "Consistent operational performance\n",
    "Strong revenue growth (2021: $6M → 2023: $15M)\n",
    "Successful product transitions\n",
    "\n",
    "Areas of Concern:\n",
    "\n",
    "Dramatic color preference shifts suggest volatile market\n",
    "Limited product categories reporting (46 products uncategorized)\n",
    "Potential supply chain vulnerabilities in complex products"
   ]
  },
  {
   "cell_type": "markdown",
   "metadata": {
    "application/vnd.databricks.v1+cell": {
     "cellMetadata": {
      "byteLimit": 2048000,
      "rowLimit": 10000
     },
     "inputWidgets": {},
     "nuid": "187ea396-05e0-46ae-809e-97f7a66cf46a",
     "showTitle": false,
     "tableResultSettingsMap": {},
     "title": ""
    }
   },
   "source": [
    "### Appendices\n",
    "\n",
    "#### Appendix A: Complete Code Repository\n",
    "All code is available at: github.com/Bibidev42/Upstart13\n",
    "\n",
    "#### Appendix B: Sample Data\n",
    "\n",
    "**Products Sample:**\n",
    "ProductID | ProductDesc | Color | ListPrice\n",
    "680 | HL Road Frame - Black, 58 | Black | 1431.50\n",
    "706 | HL Road Frame - Red, 58 | Red | 1431.50\n",
    "\n",
    "**Orders Sample:**\n",
    "SalesOrderID | OrderDate | ProductID | OrderQty | TotalLineExtendedPrice\n",
    "43659 | 2021-05-31 | 776 | 1 | 2024.99\n",
    "\n",
    "#### Appendix C: Business Glossary\n",
    "\n",
    "- **Lead Time**: Business days between order and shipment\n",
    "- **Extended Price**: Quantity × (Unit Price - Discount)  \n",
    "- **Medallion Architecture**: Bronze (raw) → Silver (clean) → Gold (business-ready)\n",
    "- **Business Days**: Monday-Friday, excluding weekends"
   ]
  }
 ],
 "metadata": {
  "application/vnd.databricks.v1+notebook": {
   "computePreferences": null,
   "dashboards": [],
   "environmentMetadata": {
    "base_environment": "",
    "environment_version": "1"
   },
   "inputWidgetPreferences": null,
   "language": "python",
   "notebookMetadata": {
    "mostRecentlyExecutedCommandWithImplicitDF": {
     "commandId": 3893174587586647,
     "dataframes": [
      "_sqldf"
     ]
    },
    "pythonIndentUnit": 4
   },
   "notebookName": "Interview_Case_Study_Refined",
   "widgets": {}
  }
 },
 "nbformat": 4,
 "nbformat_minor": 0
}